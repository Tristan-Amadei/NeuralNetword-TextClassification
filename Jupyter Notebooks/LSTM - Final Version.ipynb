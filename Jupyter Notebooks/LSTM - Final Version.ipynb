{
 "cells": [
  {
   "cell_type": "markdown",
   "id": "c96d2738",
   "metadata": {},
   "source": [
    "# Import necessary librairies"
   ]
  },
  {
   "cell_type": "code",
   "execution_count": 1,
   "id": "37c3e430",
   "metadata": {},
   "outputs": [],
   "source": [
    "%matplotlib inline\n",
    "import matplotlib.pyplot as plt\n",
    "import numpy as np\n",
    "import pandas as pd\n",
    "import pickle\n",
    "from tqdm import tqdm\n",
    "import time\n",
    "import seaborn as sns\n",
    "\n",
    "import tensorflow as tf\n",
    "import tensorflow_hub as hub\n",
    "from tensorflow import keras\n",
    "from keras.utils import to_categorical\n",
    "from keras.callbacks import EarlyStopping, ModelCheckpoint\n",
    "\n",
    "from sklearn import metrics\n",
    "from sklearn.model_selection import train_test_split"
   ]
  },
  {
   "cell_type": "markdown",
   "id": "ada3303c",
   "metadata": {},
   "source": [
    "### Define useful functions"
   ]
  },
  {
   "cell_type": "code",
   "execution_count": 2,
   "id": "000afbd0",
   "metadata": {},
   "outputs": [],
   "source": [
    "def display_time(start, stop):\n",
    "    total = stop - start\n",
    "    hours = total // 3600\n",
    "    minutes = (total - 3600*hours) // 60\n",
    "    seconds = int((total - 3600*hours) % 60)\n",
    "    \n",
    "    if hours > 0:\n",
    "        print(f\"Process took {hours}h, {minutes}min, {seconds}s to run\")\n",
    "    elif minutes > 0:\n",
    "        print(f\"Process took {minutes}min, {seconds}s to run\")\n",
    "    else:\n",
    "        print(f\"Process took {seconds}s to run\")"
   ]
  },
  {
   "cell_type": "markdown",
   "id": "cbbb6ead",
   "metadata": {},
   "source": [
    "# Data processing"
   ]
  },
  {
   "cell_type": "markdown",
   "id": "ba6049cc",
   "metadata": {},
   "source": [
    "### Load and process the data"
   ]
  },
  {
   "cell_type": "code",
   "execution_count": 3,
   "id": "d56e156f",
   "metadata": {},
   "outputs": [],
   "source": [
    "# import the data from the full database\n",
    "df = pd.read_csv(\"\", sep = ',', engine='python')"
   ]
  },
  {
   "cell_type": "code",
   "execution_count": 4,
   "id": "ed021844",
   "metadata": {},
   "outputs": [],
   "source": [
    "# process the data to avoid later errors\n",
    "df = df.replace(float(\"nan\"), \"\")"
   ]
  },
  {
   "cell_type": "markdown",
   "id": "1d26c05d",
   "metadata": {},
   "source": [
    "### Text embedding and encoding"
   ]
  },
  {
   "cell_type": "markdown",
   "id": "ee6e1beb",
   "metadata": {},
   "source": [
    "$$ \n",
    "\\text{We use a pre-trained model built by Google to encode the text data, so as to allow computers to read and understand it.}\n",
    "$$"
   ]
  },
  {
   "cell_type": "code",
   "execution_count": 7,
   "id": "19e4e39e",
   "metadata": {},
   "outputs": [],
   "source": [
    "embedding = \"https://tfhub.dev/google/nnlm-en-dim50/2\"\n",
    "hub_layer = hub.KerasLayer(embedding, input_shape=[], \n",
    "                           dtype=tf.string, trainable=True)"
   ]
  },
  {
   "cell_type": "code",
   "execution_count": 8,
   "id": "c54d1159",
   "metadata": {},
   "outputs": [],
   "source": [
    "def encode_string(string):\n",
    "    return list(hub_layer([string]).numpy()[0])"
   ]
  },
  {
   "cell_type": "markdown",
   "id": "be74ff12",
   "metadata": {},
   "source": [
    "### Create the data and classes"
   ]
  },
  {
   "cell_type": "code",
   "execution_count": 9,
   "id": "8041d211",
   "metadata": {},
   "outputs": [],
   "source": [
    "classes = np.unique(df[\"contact_job_function\"])"
   ]
  },
  {
   "cell_type": "code",
   "execution_count": 10,
   "id": "e1a77e52",
   "metadata": {},
   "outputs": [],
   "source": [
    "def get_index(array, elem):\n",
    "    for i in range(len(array)):\n",
    "        if array[i] == elem:\n",
    "            return i\n",
    "    return -1"
   ]
  },
  {
   "cell_type": "code",
   "execution_count": null,
   "id": "463b914c",
   "metadata": {},
   "outputs": [],
   "source": [
    "# X contain the features and y contains the indices of the classes associated\n",
    "\n",
    "X, y = [], []\n",
    "for i in tqdm(range(len(df))):\n",
    "    class_index = get_index(classes, df.iloc[i][\"job_function\"])\n",
    "    y.append(class_index)\n",
    "\n",
    "    encode_roles = [encode_string(df.iloc[i][\"job_selfrep\"])]\n",
    "    encode_roles += [encode_string(df.iloc[i][\"job_role\"])]\n",
    "    encode_roles += [encode_string(df.iloc[i][\"job_title\"])]\n",
    "    X.append(encode_roles)"
   ]
  },
  {
   "cell_type": "markdown",
   "id": "56f02a88",
   "metadata": {},
   "source": [
    "### Reshape the data"
   ]
  },
  {
   "cell_type": "code",
   "execution_count": 12,
   "id": "49fea4b4",
   "metadata": {},
   "outputs": [],
   "source": [
    "X = np.array(X)\n",
    "y = np.array(y)"
   ]
  },
  {
   "cell_type": "code",
   "execution_count": 13,
   "id": "c7309d6f",
   "metadata": {},
   "outputs": [],
   "source": [
    "nsamples, nx, ny = X.shape\n",
    "X = X.reshape((nsamples,nx*ny))"
   ]
  },
  {
   "cell_type": "code",
   "execution_count": 15,
   "id": "d37f871e",
   "metadata": {},
   "outputs": [],
   "source": [
    "y = to_categorical(y)"
   ]
  },
  {
   "cell_type": "markdown",
   "id": "b19f0530",
   "metadata": {},
   "source": [
    "### Split the data into training and test sets"
   ]
  },
  {
   "cell_type": "markdown",
   "id": "5ee86692",
   "metadata": {},
   "source": [
    "- We split the whole dataset into 3 differents sets, for the training, the validation and the tests\n",
    "     - Training dataset :   75% of the whole dataset\n",
    "     - Validation dataset : 15% of the whole dataset\n",
    "     - Test dataset :       10% of the whole dataset"
   ]
  },
  {
   "cell_type": "code",
   "execution_count": 16,
   "id": "0dff75ac",
   "metadata": {},
   "outputs": [],
   "source": [
    "def train_val_test(dataX, dataY, train_ratio=0.75, validation_ratio=0.15, test_ratio=0.10):\n",
    "    if train_ratio+test_ratio+validation_ratio != 1:\n",
    "        print(\"Ratios do not add up to 1\")\n",
    "    else:\n",
    "        x_train, x_test, y_train, y_test = train_test_split(dataX, dataY, test_size=1 - train_ratio)\n",
    "        x_val, x_test, y_val, y_test = train_test_split(x_test, y_test, test_size=test_ratio/(test_ratio + validation_ratio)) \n",
    "\n",
    "        return x_train, x_val, x_test, y_train, y_val, y_test"
   ]
  },
  {
   "cell_type": "code",
   "execution_count": 17,
   "id": "393b94ec",
   "metadata": {},
   "outputs": [],
   "source": [
    "X_train, X_val, X_test, y_train, y_val, y_test = train_val_test(X, y)"
   ]
  },
  {
   "cell_type": "markdown",
   "id": "179b99b7",
   "metadata": {},
   "source": [
    "# Build our Neural Network"
   ]
  },
  {
   "cell_type": "code",
   "execution_count": 19,
   "id": "72e34457",
   "metadata": {},
   "outputs": [],
   "source": [
    "input_dimension = len(X[0])\n",
    "output_dimension = 64\n",
    "\n",
    "# we use this to randomly initialize the weights in the dense layers, which allows for a faster convergence of the network\n",
    "kernel_initializing = tf.keras.initializers.RandomUniform(minval=-0.5, maxval=0.5, seed=666)\n",
    "\n",
    "model = tf.keras.Sequential([\n",
    "    tf.keras.layers.Dense(input_dimension, activation='selu', kernel_initializer=kernel_initializing),\n",
    "    tf.keras.layers.Reshape((input_dimension, 1)),\n",
    "    \n",
    "    tf.keras.layers.Bidirectional(tf.keras.layers.LSTM(output_dimension, dropout=0.2)),\n",
    "    tf.keras.layers.Dense(output_dimension, activation='elu', kernel_initializer=kernel_initializing),\n",
    "    \n",
    "    tf.keras.layers.Dense(len(classes), activation='softmax', kernel_initializer=kernel_initializing)\n",
    "])"
   ]
  },
  {
   "cell_type": "code",
   "execution_count": 20,
   "id": "a62bc53b",
   "metadata": {},
   "outputs": [
    {
     "name": "stdout",
     "output_type": "stream",
     "text": [
      "Model: \"sequential\"\n",
      "_________________________________________________________________\n",
      " Layer (type)                Output Shape              Param #   \n",
      "=================================================================\n",
      " dense (Dense)               (1937682, 150)            22650     \n",
      "                                                                 \n",
      " reshape (Reshape)           (1937682, 150, 1)         0         \n",
      "                                                                 \n",
      " bidirectional (Bidirectiona  (1937682, 128)           33792     \n",
      " l)                                                              \n",
      "                                                                 \n",
      " dense_1 (Dense)             (1937682, 64)             8256      \n",
      "                                                                 \n",
      " dense_2 (Dense)             (1937682, 42)             2730      \n",
      "                                                                 \n",
      "=================================================================\n",
      "Total params: 67,428\n",
      "Trainable params: 67,428\n",
      "Non-trainable params: 0\n",
      "_________________________________________________________________\n"
     ]
    }
   ],
   "source": [
    "model.build(X.shape)\n",
    "model.summary()"
   ]
  },
  {
   "cell_type": "code",
   "execution_count": 21,
   "id": "30c42b41",
   "metadata": {},
   "outputs": [],
   "source": [
    "model.compile(loss='categorical_crossentropy',\n",
    "          optimizer=tf.keras.optimizers.Adamax(),\n",
    "          metrics=['accuracy'])"
   ]
  },
  {
   "cell_type": "code",
   "execution_count": 22,
   "id": "d32c0a5e",
   "metadata": {},
   "outputs": [],
   "source": [
    "filepath = 'model.h5'\n",
    "checkpoint = ModelCheckpoint(filepath=filepath, \n",
    "                             monitor='val_loss',\n",
    "                             verbose=1, \n",
    "                             save_best_only=True,\n",
    "                             mode='min')\n",
    "\n",
    "es = EarlyStopping(monitor='val_loss', patience=8, verbose=1)\n",
    "\n",
    "callbacks = [checkpoint, es]"
   ]
  },
  {
   "cell_type": "code",
   "execution_count": 23,
   "id": "7594eae7",
   "metadata": {},
   "outputs": [
    {
     "name": "stdout",
     "output_type": "stream",
     "text": [
      "Epoch 1/150\n",
      "2839/2839 [==============================] - ETA: 0s - loss: 0.2428 - accuracy: 0.9332\n",
      "Epoch 1: val_loss improved from inf to 0.26492, saving model to ./models/tryouts\\model.h5\n",
      "2839/2839 [==============================] - 2804s 986ms/step - loss: 0.2428 - accuracy: 0.9332 - val_loss: 0.2649 - val_accuracy: 0.9284\n",
      "Epoch 2/150\n",
      "2839/2839 [==============================] - ETA: 0s - loss: 0.2410 - accuracy: 0.9335\n",
      "Epoch 2: val_loss improved from 0.26492 to 0.26126, saving model to ./models/tryouts\\model.h5\n",
      "2839/2839 [==============================] - 3016s 1s/step - loss: 0.2410 - accuracy: 0.9335 - val_loss: 0.2613 - val_accuracy: 0.9297\n",
      "Epoch 3/150\n",
      "2839/2839 [==============================] - ETA: 0s - loss: 0.2392 - accuracy: 0.9339\n",
      "Epoch 3: val_loss improved from 0.26126 to 0.24496, saving model to ./models/tryouts\\model.h5\n",
      "2839/2839 [==============================] - 3276s 1s/step - loss: 0.2392 - accuracy: 0.9339 - val_loss: 0.2450 - val_accuracy: 0.9332\n",
      "Epoch 4/150\n",
      "2839/2839 [==============================] - ETA: 0s - loss: 0.2373 - accuracy: 0.9345\n",
      "Epoch 4: val_loss did not improve from 0.24496\n",
      "2839/2839 [==============================] - 2855s 1s/step - loss: 0.2373 - accuracy: 0.9345 - val_loss: 0.2505 - val_accuracy: 0.9319\n",
      "Epoch 5/150\n",
      "2839/2839 [==============================] - ETA: 0s - loss: 0.2361 - accuracy: 0.9347\n",
      "Epoch 5: val_loss did not improve from 0.24496\n",
      "2839/2839 [==============================] - 2861s 1s/step - loss: 0.2361 - accuracy: 0.9347 - val_loss: 0.2505 - val_accuracy: 0.9319\n",
      "Epoch 6/150\n",
      "2839/2839 [==============================] - ETA: 0s - loss: 0.2349 - accuracy: 0.9351\n",
      "Epoch 6: val_loss did not improve from 0.24496\n",
      "2839/2839 [==============================] - 2781s 980ms/step - loss: 0.2349 - accuracy: 0.9351 - val_loss: 0.2455 - val_accuracy: 0.9336\n",
      "Epoch 7/150\n",
      "2839/2839 [==============================] - ETA: 0s - loss: 0.2333 - accuracy: 0.9354\n",
      "Epoch 7: val_loss did not improve from 0.24496\n",
      "2839/2839 [==============================] - 2733s 962ms/step - loss: 0.2333 - accuracy: 0.9354 - val_loss: 0.2480 - val_accuracy: 0.9329\n",
      "Epoch 8/150\n",
      "2839/2839 [==============================] - ETA: 0s - loss: 0.2324 - accuracy: 0.9357\n",
      "Epoch 8: val_loss did not improve from 0.24496\n",
      "2839/2839 [==============================] - 2987s 1s/step - loss: 0.2324 - accuracy: 0.9357 - val_loss: 0.2534 - val_accuracy: 0.9313\n",
      "Epoch 9/150\n",
      "2839/2839 [==============================] - ETA: 0s - loss: 0.2311 - accuracy: 0.9361\n",
      "Epoch 9: val_loss improved from 0.24496 to 0.24120, saving model to ./models/tryouts\\model.h5\n",
      "2839/2839 [==============================] - 2834s 998ms/step - loss: 0.2311 - accuracy: 0.9361 - val_loss: 0.2412 - val_accuracy: 0.9352\n",
      "Epoch 10/150\n",
      "2839/2839 [==============================] - ETA: 0s - loss: 0.2303 - accuracy: 0.9362\n",
      "Epoch 10: val_loss did not improve from 0.24120\n",
      "2839/2839 [==============================] - 2753s 970ms/step - loss: 0.2303 - accuracy: 0.9362 - val_loss: 0.2507 - val_accuracy: 0.9322\n",
      "Epoch 11/150\n",
      "2839/2839 [==============================] - ETA: 0s - loss: 0.2288 - accuracy: 0.9369\n",
      "Epoch 11: val_loss did not improve from 0.24120\n",
      "2839/2839 [==============================] - 2747s 967ms/step - loss: 0.2288 - accuracy: 0.9369 - val_loss: 0.2498 - val_accuracy: 0.9330\n",
      "Epoch 12/150\n",
      "2839/2839 [==============================] - ETA: 0s - loss: 0.2281 - accuracy: 0.9367\n",
      "Epoch 12: val_loss did not improve from 0.24120\n",
      "2839/2839 [==============================] - 2763s 973ms/step - loss: 0.2281 - accuracy: 0.9367 - val_loss: 0.2456 - val_accuracy: 0.9340\n",
      "Epoch 13/150\n",
      "2839/2839 [==============================] - ETA: 0s - loss: 0.2267 - accuracy: 0.9372\n",
      "Epoch 13: val_loss did not improve from 0.24120\n",
      "2839/2839 [==============================] - 2723s 959ms/step - loss: 0.2267 - accuracy: 0.9372 - val_loss: 0.2471 - val_accuracy: 0.9328\n",
      "Epoch 14/150\n",
      "2839/2839 [==============================] - ETA: 0s - loss: 0.2258 - accuracy: 0.9374\n",
      "Epoch 14: val_loss did not improve from 0.24120\n",
      "2839/2839 [==============================] - 2749s 968ms/step - loss: 0.2258 - accuracy: 0.9374 - val_loss: 0.2429 - val_accuracy: 0.9344\n",
      "Epoch 15/150\n",
      "2839/2839 [==============================] - ETA: 0s - loss: 0.2251 - accuracy: 0.9376\n",
      "Epoch 15: val_loss did not improve from 0.24120\n",
      "2839/2839 [==============================] - 2775s 977ms/step - loss: 0.2251 - accuracy: 0.9376 - val_loss: 0.2465 - val_accuracy: 0.9338\n",
      "Epoch 16/150\n",
      "2839/2839 [==============================] - ETA: 0s - loss: 0.2241 - accuracy: 0.9379\n",
      "Epoch 16: val_loss did not improve from 0.24120\n",
      "2839/2839 [==============================] - 2903s 1s/step - loss: 0.2241 - accuracy: 0.9379 - val_loss: 0.2433 - val_accuracy: 0.9345\n",
      "Epoch 17/150\n",
      "2839/2839 [==============================] - ETA: 0s - loss: 0.2237 - accuracy: 0.9379\n",
      "Epoch 17: val_loss did not improve from 0.24120\n",
      "2839/2839 [==============================] - 2883s 1s/step - loss: 0.2237 - accuracy: 0.9379 - val_loss: 0.2485 - val_accuracy: 0.9335\n",
      "Epoch 17: early stopping\n",
      "Process took 13.0h, 27.0min, 23s to run\n"
     ]
    }
   ],
   "source": [
    "start=time.time()\n",
    "\n",
    "model = keras.models.load_model(filepath)\n",
    "history = model.fit(X_train, y_train, batch_size = 512, epochs=150, validation_data=(X_val, y_val), verbose=1, callbacks=callbacks)\n",
    "\n",
    "stop=time.time()\n",
    "display_time(start, stop)"
   ]
  },
  {
   "cell_type": "markdown",
   "id": "a6e5bfc9",
   "metadata": {},
   "source": [
    "# Evaluate our model"
   ]
  },
  {
   "cell_type": "code",
   "execution_count": 24,
   "id": "4e7e13f3",
   "metadata": {},
   "outputs": [],
   "source": [
    "def plot_graphs(history, metric):\n",
    "    plt.plot(history.history[metric])\n",
    "    plt.plot(history.history['val_'+metric], '')\n",
    "    plt.xlabel(\"Epochs\")\n",
    "    plt.ylabel(metric)\n",
    "    plt.legend([metric, 'val_'+metric])"
   ]
  },
  {
   "cell_type": "code",
   "execution_count": 25,
   "id": "06445388",
   "metadata": {},
   "outputs": [],
   "source": [
    "def plot_history(history):\n",
    "    plt.figure(figsize=(16, 8))\n",
    "    plt.subplot(1, 2, 1)\n",
    "    plot_graphs(history, 'accuracy')\n",
    "    plt.ylim(None, 1)\n",
    "    plt.subplot(1, 2, 2)\n",
    "    plot_graphs(history, 'loss')\n",
    "    plt.ylim(0, None)\n",
    "    plt.show()"
   ]
  },
  {
   "cell_type": "code",
   "execution_count": 26,
   "id": "1a8afe13",
   "metadata": {},
   "outputs": [
    {
     "data": {
      "image/png": "[encoded data removed]",
      "text/plain": [
       "<Figure size 1152x576 with 2 Axes>"
      ]
     },
     "metadata": {
      "needs_background": "light"
     },
     "output_type": "display_data"
    }
   ],
   "source": [
    "plot_history(history)"
   ]
  },
  {
   "cell_type": "code",
   "execution_count": 27,
   "id": "821a423c",
   "metadata": {},
   "outputs": [],
   "source": [
    "def get_class_predicted(categories):\n",
    "    return [np.argmax(category) for category in categories]\n",
    "\n",
    "def prediction_and_accuracy(model, X_for_testing, y_for_testing, print_=True):\n",
    "    all_class_prediction = model.predict(X_for_testing)\n",
    "    prediction = get_class_predicted(all_class_prediction)\n",
    "    y = get_class_predicted(y_for_testing)\n",
    "    \n",
    "    accuracy = metrics.accuracy_score(y, prediction)\n",
    "    \n",
    "    if print_:\n",
    "        print(f\"Accuracy -> {round(100*accuracy, 2)}%\")\n",
    "    return prediction, accuracy"
   ]
  },
  {
   "cell_type": "markdown",
   "id": "83f7fa7f",
   "metadata": {},
   "source": [
    "#### Get the accuracy on the test set"
   ]
  },
  {
   "cell_type": "code",
   "execution_count": 28,
   "id": "76b9b802",
   "metadata": {},
   "outputs": [
    {
     "name": "stdout",
     "output_type": "stream",
     "text": [
      "6056/6056 [==============================] - 266s 44ms/step\n",
      "Accuracy -> 93.52%\n"
     ]
    }
   ],
   "source": [
    "minimum_val_loss_model = keras.models.load_model(filepath)\n",
    "vect_prediction, accuracy = prediction_and_accuracy(minimum_val_loss_model, X_test, y_test)"
   ]
  }
 ],
 "metadata": {
  "kernelspec": {
   "display_name": "Python 3 (ipykernel)",
   "language": "python",
   "name": "python3"
  },
  "language_info": {
   "codemirror_mode": {
    "name": "ipython",
    "version": 3
   },
   "file_extension": ".py",
   "mimetype": "text/x-python",
   "name": "python",
   "nbconvert_exporter": "python",
   "pygments_lexer": "ipython3",
   "version": "3.9.0"
  }
 },
 "nbformat": 4,
 "nbformat_minor": 5
}
